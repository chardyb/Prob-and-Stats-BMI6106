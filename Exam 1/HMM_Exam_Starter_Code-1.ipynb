{
 "cells": [
  {
   "cell_type": "code",
   "execution_count": null,
   "metadata": {},
   "outputs": [],
   "source": [
    "# install required packages\n",
    "! pip install pandas\n",
    "! pip install numpy\n",
    "! pip install matplotlib\n",
    "! pip install hmmlearn\n",
    "! pip install requests"
   ]
  },
  {
   "cell_type": "code",
   "execution_count": null,
   "metadata": {},
   "outputs": [],
   "source": [
    "# download the data\n",
    "import requests\n",
    "\n",
    "url = \"https://drive.google.com/uc?export=download&id=1K4GGMCcmLtvsaI4lbncKhBTWDDCOPskg\"\n",
    "response = requests.get(url, stream=True)\n",
    "\n",
    "with open(\"heart_rates.csv\", \"wb\") as f:\n",
    "    for chunk in response.iter_content(chunk_size=1024):\n",
    "        f.write(chunk)\n",
    "\n",
    "print(\"Download complete!\")"
   ]
  },
  {
   "cell_type": "markdown",
   "metadata": {},
   "source": [
    "# Question 8: HMM - 10 points\n",
    "\n",
    "You are collaborating with a research group who are trying to see the affect of exercise on mental health. As part of this, they are using fitbits to monitor heart rate and want you to help them determine when the participants are exercising, walking, or resting. Implement a GaussianHMM from hmmlearn (or yur choice of another package) to help them in this process"
   ]
  },
  {
   "cell_type": "markdown",
   "metadata": {},
   "source": [
    "## A. Using the data and no prior knowledge, fit a Gaussian HMM and report the means and covariances of each state. Using the means, infer which state is resting, which is walking, and which is exercising (5 points)"
   ]
  },
  {
   "cell_type": "code",
   "execution_count": null,
   "metadata": {},
   "outputs": [],
   "source": [
    "import pandas as pd\n",
    "from hmmlearn import hmm\n",
    "\n",
    "data = pd.read_csv('heart_rates.csv')\n",
    "data"
   ]
  },
  {
   "cell_type": "markdown",
   "metadata": {},
   "source": [
    "### B. What was the patient doing between hours 75-79? (5 points)"
   ]
  },
  {
   "cell_type": "code",
   "execution_count": null,
   "metadata": {},
   "outputs": [],
   "source": []
  }
 ],
 "metadata": {
  "kernelspec": {
   "display_name": "jt_bmi_6114",
   "language": "python",
   "name": "python3"
  },
  "language_info": {
   "codemirror_mode": {
    "name": "ipython",
    "version": 3
   },
   "file_extension": ".py",
   "mimetype": "text/x-python",
   "name": "python",
   "nbconvert_exporter": "python",
   "pygments_lexer": "ipython3",
   "version": "3.13.2"
  }
 },
 "nbformat": 4,
 "nbformat_minor": 2
}
